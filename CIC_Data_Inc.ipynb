{
  "nbformat": 4,
  "nbformat_minor": 0,
  "metadata": {
    "colab": {
      "name": "CIC_Data_Inc.ipynb",
      "provenance": [],
      "collapsed_sections": [],
      "toc_visible": true
    },
    "kernelspec": {
      "name": "python3",
      "display_name": "Python 3"
    },
    "language_info": {
      "name": "python"
    }
  },
  "cells": [
    {
      "cell_type": "code",
      "execution_count": null,
      "metadata": {
        "id": "0E-3YJVeWL2K"
      },
      "outputs": [],
      "source": [
        "import numpy as np\n",
        "from scipy.stats import norm\n",
        "import matplotlib.pyplot as plt\n",
        "import math\n",
        "import pandas as pd\n",
        "\n",
        "import os, re, time, math, tqdm, itertools\n",
        "import seaborn as sns\n",
        "import plotly.express as px\n",
        "import plotly.offline as pyo\n",
        "\n",
        "import torch\n",
        "import torch.nn as nn\n",
        "import torch.optim as optim\n",
        "import torch.nn.functional as F\n",
        "\n",
        "import torchvision.datasets as datasets\n",
        "import torchvision.transforms as transforms\n",
        "from torch.autograd import Variable\n",
        "from torch.utils.data import Dataset, DataLoader\n",
        "from sklearn.feature_selection import VarianceThreshold\n",
        "from sklearn.preprocessing import LabelEncoder\n",
        "from sklearn.utils import resample\n",
        "from sklearn.model_selection import train_test_split\n",
        "from sklearn.preprocessing import MinMaxScaler\n",
        "from sklearn.ensemble import RandomForestClassifier\n",
        "from sklearn.neural_network import MLPClassifier\n",
        "from sklearn.metrics import f1_score, precision_score, recall_score, confusion_matrix, ConfusionMatrixDisplay\n",
        "\n",
        "import keras\n",
        "from keras.layers import Conv2D, Conv1D, MaxPooling2D, MaxPooling1D, Flatten, BatchNormalization, Dense\n",
        "from keras.utils.np_utils import to_categorical\n",
        "from keras.models import Sequential\n",
        "from keras.callbacks import CSVLogger, ModelCheckpoint"
      ]
    },
    {
      "cell_type": "markdown",
      "source": [
        "# Read CSV files and output feature info"
      ],
      "metadata": {
        "id": "1ChZJSY9jhQS"
      }
    },
    {
      "cell_type": "code",
      "source": [
        "cic_dat_d1 = pd.read_csv('/content/drive/MyDrive/CIC_IDS_2018/02-14-2018.csv')\n",
        "cic_dat_d2 = pd.read_csv('/content/drive/MyDrive/CIC_IDS_2018/02-15-2018.csv')\n",
        "# cic_dat_d3 = pd.read_csv('/content/drive/MyDrive/CIC_IDS_2018/02-16-2018.csv')\n",
        "# cic_dat_d4 = pd.read_csv('/content/drive/MyDrive/CIC_IDS_2018/02-20-2018.csv')\n",
        "# cic_dat_d5 = pd.read_csv('/content/drive/MyDrive/CIC_IDS_2018/02-21-2018.csv')\n",
        "# cic_dat_d6 = pd.read_csv('/content/drive/MyDrive/CIC_IDS_2018/02-22-2018.csv')\n",
        "# cic_dat_d7 = pd.read_csv('/content/drive/MyDrive/CIC_IDS_2018/02-23-2018.csv')\n",
        "# cic_dat_d8 = pd.read_csv('/content/drive/MyDrive/CIC_IDS_2018/02-28-2018.csv')\n",
        "# cic_dat_d9 = pd.read_csv('/content/drive/MyDrive/CIC_IDS_2018/03-01-2018.csv')\n",
        "# dataset0 = pd.read_csv('/content/drive/MyDrive/CIC_IDS_2018/03-02-2018.csv')\n",
        "\n",
        "cic_dat_d1.info()"
      ],
      "metadata": {
        "colab": {
          "base_uri": "https://localhost:8080/"
        },
        "id": "yTQ2VbTKjn3o",
        "outputId": "37f57127-417b-4142-a1dc-fa77107a9774"
      },
      "execution_count": null,
      "outputs": [
        {
          "output_type": "stream",
          "name": "stdout",
          "text": [
            "<class 'pandas.core.frame.DataFrame'>\n",
            "RangeIndex: 1048575 entries, 0 to 1048574\n",
            "Data columns (total 80 columns):\n",
            " #   Column             Non-Null Count    Dtype  \n",
            "---  ------             --------------    -----  \n",
            " 0   Dst Port           1048575 non-null  int64  \n",
            " 1   Protocol           1048575 non-null  int64  \n",
            " 2   Timestamp          1048575 non-null  object \n",
            " 3   Flow Duration      1048575 non-null  int64  \n",
            " 4   Tot Fwd Pkts       1048575 non-null  int64  \n",
            " 5   Tot Bwd Pkts       1048575 non-null  int64  \n",
            " 6   TotLen Fwd Pkts    1048575 non-null  int64  \n",
            " 7   TotLen Bwd Pkts    1048575 non-null  int64  \n",
            " 8   Fwd Pkt Len Max    1048575 non-null  int64  \n",
            " 9   Fwd Pkt Len Min    1048575 non-null  int64  \n",
            " 10  Fwd Pkt Len Mean   1048575 non-null  float64\n",
            " 11  Fwd Pkt Len Std    1048575 non-null  float64\n",
            " 12  Bwd Pkt Len Max    1048575 non-null  int64  \n",
            " 13  Bwd Pkt Len Min    1048575 non-null  int64  \n",
            " 14  Bwd Pkt Len Mean   1048575 non-null  float64\n",
            " 15  Bwd Pkt Len Std    1048575 non-null  float64\n",
            " 16  Flow Byts/s        1046298 non-null  float64\n",
            " 17  Flow Pkts/s        1048575 non-null  float64\n",
            " 18  Flow IAT Mean      1048575 non-null  float64\n",
            " 19  Flow IAT Std       1048575 non-null  float64\n",
            " 20  Flow IAT Max       1048575 non-null  int64  \n",
            " 21  Flow IAT Min       1048575 non-null  int64  \n",
            " 22  Fwd IAT Tot        1048575 non-null  int64  \n",
            " 23  Fwd IAT Mean       1048575 non-null  float64\n",
            " 24  Fwd IAT Std        1048575 non-null  float64\n",
            " 25  Fwd IAT Max        1048575 non-null  int64  \n",
            " 26  Fwd IAT Min        1048575 non-null  int64  \n",
            " 27  Bwd IAT Tot        1048575 non-null  int64  \n",
            " 28  Bwd IAT Mean       1048575 non-null  float64\n",
            " 29  Bwd IAT Std        1048575 non-null  float64\n",
            " 30  Bwd IAT Max        1048575 non-null  int64  \n",
            " 31  Bwd IAT Min        1048575 non-null  int64  \n",
            " 32  Fwd PSH Flags      1048575 non-null  int64  \n",
            " 33  Bwd PSH Flags      1048575 non-null  int64  \n",
            " 34  Fwd URG Flags      1048575 non-null  int64  \n",
            " 35  Bwd URG Flags      1048575 non-null  int64  \n",
            " 36  Fwd Header Len     1048575 non-null  int64  \n",
            " 37  Bwd Header Len     1048575 non-null  int64  \n",
            " 38  Fwd Pkts/s         1048575 non-null  float64\n",
            " 39  Bwd Pkts/s         1048575 non-null  float64\n",
            " 40  Pkt Len Min        1048575 non-null  int64  \n",
            " 41  Pkt Len Max        1048575 non-null  int64  \n",
            " 42  Pkt Len Mean       1048575 non-null  float64\n",
            " 43  Pkt Len Std        1048575 non-null  float64\n",
            " 44  Pkt Len Var        1048575 non-null  float64\n",
            " 45  FIN Flag Cnt       1048575 non-null  int64  \n",
            " 46  SYN Flag Cnt       1048575 non-null  int64  \n",
            " 47  RST Flag Cnt       1048575 non-null  int64  \n",
            " 48  PSH Flag Cnt       1048575 non-null  int64  \n",
            " 49  ACK Flag Cnt       1048575 non-null  int64  \n",
            " 50  URG Flag Cnt       1048575 non-null  int64  \n",
            " 51  CWE Flag Count     1048575 non-null  int64  \n",
            " 52  ECE Flag Cnt       1048575 non-null  int64  \n",
            " 53  Down/Up Ratio      1048575 non-null  int64  \n",
            " 54  Pkt Size Avg       1048575 non-null  float64\n",
            " 55  Fwd Seg Size Avg   1048575 non-null  float64\n",
            " 56  Bwd Seg Size Avg   1048575 non-null  float64\n",
            " 57  Fwd Byts/b Avg     1048575 non-null  int64  \n",
            " 58  Fwd Pkts/b Avg     1048575 non-null  int64  \n",
            " 59  Fwd Blk Rate Avg   1048575 non-null  int64  \n",
            " 60  Bwd Byts/b Avg     1048575 non-null  int64  \n",
            " 61  Bwd Pkts/b Avg     1048575 non-null  int64  \n",
            " 62  Bwd Blk Rate Avg   1048575 non-null  int64  \n",
            " 63  Subflow Fwd Pkts   1048575 non-null  int64  \n",
            " 64  Subflow Fwd Byts   1048575 non-null  int64  \n",
            " 65  Subflow Bwd Pkts   1048575 non-null  int64  \n",
            " 66  Subflow Bwd Byts   1048575 non-null  int64  \n",
            " 67  Init Fwd Win Byts  1048575 non-null  int64  \n",
            " 68  Init Bwd Win Byts  1048575 non-null  int64  \n",
            " 69  Fwd Act Data Pkts  1048575 non-null  int64  \n",
            " 70  Fwd Seg Size Min   1048575 non-null  int64  \n",
            " 71  Active Mean        1048575 non-null  float64\n",
            " 72  Active Std         1048575 non-null  float64\n",
            " 73  Active Max         1048575 non-null  int64  \n",
            " 74  Active Min         1048575 non-null  int64  \n",
            " 75  Idle Mean          1048575 non-null  float64\n",
            " 76  Idle Std           1048575 non-null  float64\n",
            " 77  Idle Max           1048575 non-null  int64  \n",
            " 78  Idle Min           1048575 non-null  int64  \n",
            " 79  Label              1048575 non-null  object \n",
            "dtypes: float64(24), int64(54), object(2)\n",
            "memory usage: 640.0+ MB\n"
          ]
        }
      ]
    },
    {
      "cell_type": "code",
      "source": [
        "cic_dat_d2.info()"
      ],
      "metadata": {
        "id": "wyE78rzsFJ9f",
        "colab": {
          "base_uri": "https://localhost:8080/"
        },
        "outputId": "c1813eac-da96-46ab-980c-c4a1e7d56c8f"
      },
      "execution_count": null,
      "outputs": [
        {
          "output_type": "stream",
          "name": "stdout",
          "text": [
            "<class 'pandas.core.frame.DataFrame'>\n",
            "RangeIndex: 1048575 entries, 0 to 1048574\n",
            "Data columns (total 80 columns):\n",
            " #   Column             Non-Null Count    Dtype  \n",
            "---  ------             --------------    -----  \n",
            " 0   Dst Port           1048575 non-null  int64  \n",
            " 1   Protocol           1048575 non-null  int64  \n",
            " 2   Timestamp          1048575 non-null  object \n",
            " 3   Flow Duration      1048575 non-null  int64  \n",
            " 4   Tot Fwd Pkts       1048575 non-null  int64  \n",
            " 5   Tot Bwd Pkts       1048575 non-null  int64  \n",
            " 6   TotLen Fwd Pkts    1048575 non-null  int64  \n",
            " 7   TotLen Bwd Pkts    1048575 non-null  int64  \n",
            " 8   Fwd Pkt Len Max    1048575 non-null  int64  \n",
            " 9   Fwd Pkt Len Min    1048575 non-null  int64  \n",
            " 10  Fwd Pkt Len Mean   1048575 non-null  float64\n",
            " 11  Fwd Pkt Len Std    1048575 non-null  float64\n",
            " 12  Bwd Pkt Len Max    1048575 non-null  int64  \n",
            " 13  Bwd Pkt Len Min    1048575 non-null  int64  \n",
            " 14  Bwd Pkt Len Mean   1048575 non-null  float64\n",
            " 15  Bwd Pkt Len Std    1048575 non-null  float64\n",
            " 16  Flow Byts/s        1043654 non-null  float64\n",
            " 17  Flow Pkts/s        1048575 non-null  float64\n",
            " 18  Flow IAT Mean      1048575 non-null  float64\n",
            " 19  Flow IAT Std       1048575 non-null  float64\n",
            " 20  Flow IAT Max       1048575 non-null  int64  \n",
            " 21  Flow IAT Min       1048575 non-null  int64  \n",
            " 22  Fwd IAT Tot        1048575 non-null  int64  \n",
            " 23  Fwd IAT Mean       1048575 non-null  float64\n",
            " 24  Fwd IAT Std        1048575 non-null  float64\n",
            " 25  Fwd IAT Max        1048575 non-null  int64  \n",
            " 26  Fwd IAT Min        1048575 non-null  int64  \n",
            " 27  Bwd IAT Tot        1048575 non-null  int64  \n",
            " 28  Bwd IAT Mean       1048575 non-null  float64\n",
            " 29  Bwd IAT Std        1048575 non-null  float64\n",
            " 30  Bwd IAT Max        1048575 non-null  int64  \n",
            " 31  Bwd IAT Min        1048575 non-null  int64  \n",
            " 32  Fwd PSH Flags      1048575 non-null  int64  \n",
            " 33  Bwd PSH Flags      1048575 non-null  int64  \n",
            " 34  Fwd URG Flags      1048575 non-null  int64  \n",
            " 35  Bwd URG Flags      1048575 non-null  int64  \n",
            " 36  Fwd Header Len     1048575 non-null  int64  \n",
            " 37  Bwd Header Len     1048575 non-null  int64  \n",
            " 38  Fwd Pkts/s         1048575 non-null  float64\n",
            " 39  Bwd Pkts/s         1048575 non-null  float64\n",
            " 40  Pkt Len Min        1048575 non-null  int64  \n",
            " 41  Pkt Len Max        1048575 non-null  int64  \n",
            " 42  Pkt Len Mean       1048575 non-null  float64\n",
            " 43  Pkt Len Std        1048575 non-null  float64\n",
            " 44  Pkt Len Var        1048575 non-null  float64\n",
            " 45  FIN Flag Cnt       1048575 non-null  int64  \n",
            " 46  SYN Flag Cnt       1048575 non-null  int64  \n",
            " 47  RST Flag Cnt       1048575 non-null  int64  \n",
            " 48  PSH Flag Cnt       1048575 non-null  int64  \n",
            " 49  ACK Flag Cnt       1048575 non-null  int64  \n",
            " 50  URG Flag Cnt       1048575 non-null  int64  \n",
            " 51  CWE Flag Count     1048575 non-null  int64  \n",
            " 52  ECE Flag Cnt       1048575 non-null  int64  \n",
            " 53  Down/Up Ratio      1048575 non-null  int64  \n",
            " 54  Pkt Size Avg       1048575 non-null  float64\n",
            " 55  Fwd Seg Size Avg   1048575 non-null  float64\n",
            " 56  Bwd Seg Size Avg   1048575 non-null  float64\n",
            " 57  Fwd Byts/b Avg     1048575 non-null  int64  \n",
            " 58  Fwd Pkts/b Avg     1048575 non-null  int64  \n",
            " 59  Fwd Blk Rate Avg   1048575 non-null  int64  \n",
            " 60  Bwd Byts/b Avg     1048575 non-null  int64  \n",
            " 61  Bwd Pkts/b Avg     1048575 non-null  int64  \n",
            " 62  Bwd Blk Rate Avg   1048575 non-null  int64  \n",
            " 63  Subflow Fwd Pkts   1048575 non-null  int64  \n",
            " 64  Subflow Fwd Byts   1048575 non-null  int64  \n",
            " 65  Subflow Bwd Pkts   1048575 non-null  int64  \n",
            " 66  Subflow Bwd Byts   1048575 non-null  int64  \n",
            " 67  Init Fwd Win Byts  1048575 non-null  int64  \n",
            " 68  Init Bwd Win Byts  1048575 non-null  int64  \n",
            " 69  Fwd Act Data Pkts  1048575 non-null  int64  \n",
            " 70  Fwd Seg Size Min   1048575 non-null  int64  \n",
            " 71  Active Mean        1048575 non-null  float64\n",
            " 72  Active Std         1048575 non-null  float64\n",
            " 73  Active Max         1048575 non-null  int64  \n",
            " 74  Active Min         1048575 non-null  int64  \n",
            " 75  Idle Mean          1048575 non-null  float64\n",
            " 76  Idle Std           1048575 non-null  float64\n",
            " 77  Idle Max           1048575 non-null  int64  \n",
            " 78  Idle Min           1048575 non-null  int64  \n",
            " 79  Label              1048575 non-null  object \n",
            "dtypes: float64(24), int64(54), object(2)\n",
            "memory usage: 640.0+ MB\n"
          ]
        }
      ]
    },
    {
      "cell_type": "code",
      "source": [
        "cic_dat_d1['Label'].value_counts()"
      ],
      "metadata": {
        "colab": {
          "base_uri": "https://localhost:8080/"
        },
        "id": "ueBMcznhlELh",
        "outputId": "a36715a9-5928-4180-d88a-bc59cd461af6"
      },
      "execution_count": null,
      "outputs": [
        {
          "output_type": "execute_result",
          "data": {
            "text/plain": [
              "Benign            667626\n",
              "FTP-BruteForce    193360\n",
              "SSH-Bruteforce    187589\n",
              "Name: Label, dtype: int64"
            ]
          },
          "metadata": {},
          "execution_count": 30
        }
      ]
    },
    {
      "cell_type": "code",
      "source": [
        "cic_dat_d2['Label'].value_counts()"
      ],
      "metadata": {
        "colab": {
          "base_uri": "https://localhost:8080/"
        },
        "id": "5buOTPPPnpMX",
        "outputId": "31045fee-838d-4bed-84c2-6f9a96d276e5"
      },
      "execution_count": null,
      "outputs": [
        {
          "output_type": "execute_result",
          "data": {
            "text/plain": [
              "Benign                   996077\n",
              "DoS attacks-GoldenEye     41508\n",
              "DoS attacks-Slowloris     10990\n",
              "Name: Label, dtype: int64"
            ]
          },
          "metadata": {},
          "execution_count": 31
        }
      ]
    },
    {
      "cell_type": "code",
      "source": [
        "dataset = pd.concat([cic_dat_d1, cic_dat_d2], axis =0)"
      ],
      "metadata": {
        "id": "mnYovAHlGgHt"
      },
      "execution_count": null,
      "outputs": []
    },
    {
      "cell_type": "code",
      "source": [
        "dataset['Label'].value_counts()"
      ],
      "metadata": {
        "colab": {
          "base_uri": "https://localhost:8080/"
        },
        "id": "QmPXwIrMGmxf",
        "outputId": "6da5c7a9-6a76-4675-ec68-3c86853d52be"
      },
      "execution_count": null,
      "outputs": [
        {
          "output_type": "execute_result",
          "data": {
            "text/plain": [
              "Benign                   1663703\n",
              "FTP-BruteForce            193360\n",
              "SSH-Bruteforce            187589\n",
              "DoS attacks-GoldenEye      41508\n",
              "DoS attacks-Slowloris      10990\n",
              "Name: Label, dtype: int64"
            ]
          },
          "metadata": {},
          "execution_count": 33
        }
      ]
    },
    {
      "cell_type": "markdown",
      "source": [
        "# Data Pre-processing"
      ],
      "metadata": {
        "id": "6Sr2Qv3hEWWB"
      }
    },
    {
      "cell_type": "markdown",
      "source": [
        "Remove categorical features for data cleaning"
      ],
      "metadata": {
        "id": "Req-2McDj2_S"
      }
    },
    {
      "cell_type": "code",
      "source": [
        "dataset = dataset.drop(columns = [\"Timestamp\"], axis = 1)\n",
        "\n",
        "# Change labels to corresponding integers\n",
        "label_encoder = LabelEncoder()\n",
        "dataset['Label']= label_encoder.fit_transform(dataset['Label'])\n",
        "dataset['Label'].unique()\n",
        "\n",
        "dataset['Label'].value_counts()"
      ],
      "metadata": {
        "id": "-29-agmkj8qm",
        "colab": {
          "base_uri": "https://localhost:8080/"
        },
        "outputId": "f5cf1d2d-cff2-4719-87c4-92aace12f800"
      },
      "execution_count": null,
      "outputs": [
        {
          "output_type": "execute_result",
          "data": {
            "text/plain": [
              "0    1663703\n",
              "3     193360\n",
              "4     187589\n",
              "1      41508\n",
              "2      10990\n",
              "Name: Label, dtype: int64"
            ]
          },
          "metadata": {},
          "execution_count": 34
        }
      ]
    },
    {
      "cell_type": "markdown",
      "source": [
        "Data cleaning"
      ],
      "metadata": {
        "id": "D6FugcCOkFJv"
      }
    },
    {
      "cell_type": "code",
      "source": [
        "dataset.isna().sum().to_numpy() # Number of N/A values in each feature"
      ],
      "metadata": {
        "colab": {
          "base_uri": "https://localhost:8080/"
        },
        "id": "n5ZbNFHu9y8-",
        "outputId": "76f96c70-3040-4dbb-a3e7-65906580d933"
      },
      "execution_count": null,
      "outputs": [
        {
          "output_type": "execute_result",
          "data": {
            "text/plain": [
              "array([   0,    0,    0,    0,    0,    0,    0,    0,    0,    0,    0,\n",
              "          0,    0,    0,    0, 7198,    0,    0,    0,    0,    0,    0,\n",
              "          0,    0,    0,    0,    0,    0,    0,    0,    0,    0,    0,\n",
              "          0,    0,    0,    0,    0,    0,    0,    0,    0,    0,    0,\n",
              "          0,    0,    0,    0,    0,    0,    0,    0,    0,    0,    0,\n",
              "          0,    0,    0,    0,    0,    0,    0,    0,    0,    0,    0,\n",
              "          0,    0,    0,    0,    0,    0,    0,    0,    0,    0,    0,\n",
              "          0,    0])"
            ]
          },
          "metadata": {},
          "execution_count": 35
        }
      ]
    },
    {
      "cell_type": "code",
      "source": [
        "# Bound invalid values, N/A to feature minimum, Infinity to feature maximum\n",
        "for column in dataset:\n",
        "  dataset[column] = dataset[column].fillna(dataset[column].min())\n",
        "  dataset[column] = dataset[column].replace(np.Infinity, (dataset[column]!=np.Infinity).max())\n"
      ],
      "metadata": {
        "id": "kRteSwgVkG09"
      },
      "execution_count": null,
      "outputs": []
    },
    {
      "cell_type": "code",
      "source": [
        "dataset.isna().sum().to_numpy()"
      ],
      "metadata": {
        "colab": {
          "base_uri": "https://localhost:8080/"
        },
        "id": "ZictJSCe-G9m",
        "outputId": "c8067e8b-8a61-45c4-d70f-cabfb79578c4"
      },
      "execution_count": null,
      "outputs": [
        {
          "output_type": "execute_result",
          "data": {
            "text/plain": [
              "array([0, 0, 0, 0, 0, 0, 0, 0, 0, 0, 0, 0, 0, 0, 0, 0, 0, 0, 0, 0, 0, 0,\n",
              "       0, 0, 0, 0, 0, 0, 0, 0, 0, 0, 0, 0, 0, 0, 0, 0, 0, 0, 0, 0, 0, 0,\n",
              "       0, 0, 0, 0, 0, 0, 0, 0, 0, 0, 0, 0, 0, 0, 0, 0, 0, 0, 0, 0, 0, 0,\n",
              "       0, 0, 0, 0, 0, 0, 0, 0, 0, 0, 0, 0, 0])"
            ]
          },
          "metadata": {},
          "execution_count": 37
        }
      ]
    },
    {
      "cell_type": "code",
      "source": [
        "# Print variances of features to show constant value features to be removed\n",
        "var_threshold = VarianceThreshold(threshold=0)   # threshold = 0 for constant\n",
        "var_threshold.fit(dataset)\n",
        "\n",
        "for i in range(len(var_threshold.feature_names_in_)):\n",
        "  if var_threshold.variances_[i] == 0:\n",
        "    dataset = dataset.drop(columns = [var_threshold.feature_names_in_[i]], axis = 1) # Drop any features with constant values across all samples\n",
        "  print(var_threshold.feature_names_in_[i], var_threshold.variances_[i])"
      ],
      "metadata": {
        "colab": {
          "base_uri": "https://localhost:8080/"
        },
        "id": "CPuN2qn_-AeV",
        "outputId": "bccb6367-616b-45c1-9d8e-f3427efc4751"
      },
      "execution_count": null,
      "outputs": [
        {
          "output_type": "stream",
          "name": "stdout",
          "text": [
            "Dst Port 65534.0\n",
            "Protocol 17.0\n",
            "Flow Duration 919131000000.0\n",
            "Tot Fwd Pkts 1560.641973615891\n",
            "Tot Bwd Pkts 10287.378412111657\n",
            "TotLen Fwd Pkts 8737314.0\n",
            "TotLen Bwd Pkts 27905234.0\n",
            "Fwd Pkt Len Max 64440.0\n",
            "Fwd Pkt Len Min 481.46974229951\n",
            "Fwd Pkt Len Mean 3261.7328121219684\n",
            "Fwd Pkt Len Std 7799.596549134676\n",
            "Bwd Pkt Len Max 2708.0\n",
            "Bwd Pkt Len Min 1176.0\n",
            "Bwd Pkt Len Mean 1459.240494732\n",
            "Bwd Pkt Len Std 1329.3607486307\n",
            "Flow Byts/s 1298500000.0\n",
            "Flow Pkts/s 4000000.0010297606\n",
            "Flow IAT Mean 340820991524.0\n",
            "Flow IAT Std 424473900119.579\n",
            "Flow IAT Max 1139219000000.0\n",
            "Flow IAT Min 943683991524.0\n",
            "Fwd IAT Tot 919130999899.0\n",
            "Fwd IAT Mean 340820991524.0\n",
            "Fwd IAT Std 424473900119.579\n",
            "Fwd IAT Max 1139219000000.0\n",
            "Fwd IAT Min 943683991524.0\n",
            "Bwd IAT Tot 119999812.0\n",
            "Bwd IAT Mean 119913081.0\n",
            "Bwd IAT Std 84502515.871413\n",
            "Bwd IAT Max 119913081.0\n",
            "Bwd IAT Min 119913081.0\n",
            "Fwd PSH Flags 0.03740168152237293\n",
            "Bwd PSH Flags 0.0\n",
            "Fwd URG Flags 0.0\n",
            "Bwd URG Flags 0.0\n",
            "Fwd Header Len 204920.0\n",
            "Bwd Header Len 383632.0\n",
            "Fwd Pkts/s 4000000.0\n",
            "Bwd Pkts/s 2000000.0\n",
            "Pkt Len Min 439.76496503757267\n",
            "Pkt Len Max 64440.0\n",
            "Pkt Len Mean 3326.9937254902\n",
            "Pkt Len Std 10579.8091239129\n",
            "Pkt Len Var 111932361.098431\n",
            "FIN Flag Cnt 0.00469746275965801\n",
            "SYN Flag Cnt 0.03740168152237293\n",
            "RST Flag Cnt 0.04776577354940837\n",
            "PSH Flag Cnt 0.24691471042518234\n",
            "ACK Flag Cnt 0.19917153798818613\n",
            "URG Flag Cnt 0.0773422451217054\n",
            "CWE Flag Count 0.0\n",
            "ECE Flag Cnt 0.047764486930956584\n",
            "Down/Up Ratio 0.42885102786532325\n",
            "Pkt Size Avg 3328.2989407611\n",
            "Fwd Seg Size Avg 3261.7328121219675\n",
            "Bwd Seg Size Avg 1459.240494732\n",
            "Fwd Byts/b Avg 0.0\n",
            "Fwd Pkts/b Avg 0.0\n",
            "Fwd Blk Rate Avg 0.0\n",
            "Bwd Byts/b Avg 0.0\n",
            "Bwd Pkts/b Avg 0.0\n",
            "Bwd Blk Rate Avg 0.0\n",
            "Subflow Fwd Pkts 1560.641973615891\n",
            "Subflow Fwd Byts 8737314.0\n",
            "Subflow Bwd Pkts 10287.378412111657\n",
            "Subflow Bwd Byts 27905234.0\n",
            "Init Fwd Win Byts 65536.0\n",
            "Init Bwd Win Byts 65536.0\n",
            "Fwd Act Data Pkts 31.645690908892508\n",
            "Fwd Seg Size Min 56.0\n",
            "Active Mean 111992358.0\n",
            "Active Std 60177110.6318582\n",
            "Active Max 111992358.0\n",
            "Active Min 111992358.0\n",
            "Idle Mean 339450312500.0\n",
            "Idle Std 243268209256.922\n",
            "Idle Max 979781000000.0\n",
            "Idle Min 12603000000.0\n",
            "Label 1.8599647224917937\n"
          ]
        }
      ]
    },
    {
      "cell_type": "code",
      "source": [
        "dataset.shape # Final samples and columns/features"
      ],
      "metadata": {
        "id": "kxfAZYydCd_V",
        "colab": {
          "base_uri": "https://localhost:8080/"
        },
        "outputId": "b9c650f5-b764-4144-e722-2ff534633d31"
      },
      "execution_count": null,
      "outputs": [
        {
          "output_type": "execute_result",
          "data": {
            "text/plain": [
              "(2097150, 69)"
            ]
          },
          "metadata": {},
          "execution_count": 39
        }
      ]
    },
    {
      "cell_type": "markdown",
      "source": [
        "Organize data by classes"
      ],
      "metadata": {
        "id": "41XwPbuv9NV3"
      }
    },
    {
      "cell_type": "code",
      "source": [
        "# make 5 seperate datasets for 5 feature labels\n",
        "data_1 = dataset[dataset['Label'] == 0]\n",
        "data_2 = dataset[dataset['Label'] == 1]\n",
        "data_3 = dataset[dataset['Label'] == 2]\n",
        "data_4 = dataset[dataset['Label'] == 3]\n",
        "data_5 = dataset[dataset['Label'] == 4]"
      ],
      "metadata": {
        "id": "kg2OXzsnTGbb"
      },
      "execution_count": null,
      "outputs": []
    },
    {
      "cell_type": "markdown",
      "source": [
        "Randomly resample class data for equal distribution"
      ],
      "metadata": {
        "id": "dLJfaD8-JdAm"
      }
    },
    {
      "cell_type": "markdown",
      "source": [
        "1.   Class 1 - Benign\n",
        "2.   Class 2 - Dos-GoldenEye\n",
        "3. Class 3 - Dos-Slowloris\n",
        "4. Class 4 - FTP-Bruteforce\n",
        "5. Class 5 - SSH-Bruteforce"
      ],
      "metadata": {
        "id": "krZWJeDFW5b8"
      }
    },
    {
      "cell_type": "code",
      "source": [
        "data_1_resample = resample(data_1, n_samples=40000, \n",
        "                           random_state=123, replace=True) # Benign\n",
        "data_2_resample = resample(data_2, n_samples=10000, \n",
        "                           random_state=123, replace=True) # Dos-Attacks GoldenEye\n",
        "data_3_resample = resample(data_3, n_samples=10000, \n",
        "                           random_state=123, replace=True) # Dos-Attacks Slowloris\n",
        "data_4_resample = resample(data_4, n_samples=10000, \n",
        "                           random_state=123, replace=True) # FTP-Bruteforce\n",
        "data_5_resample = resample(data_5, n_samples=10000, \n",
        "                           random_state=123, replace=True) # SSH-Bruteforce"
      ],
      "metadata": {
        "id": "EvjFS-T7UWKT"
      },
      "execution_count": null,
      "outputs": []
    },
    {
      "cell_type": "markdown",
      "source": [
        "# Organize Training and Testing splits (Choose one then head to the 'Setup Training and Testing data' step)"
      ],
      "metadata": {
        "id": "Joxv6Wzhuyv2"
      }
    },
    {
      "cell_type": "markdown",
      "source": [
        "Baseline non-incremental"
      ],
      "metadata": {
        "id": "KpVBMAeluMCQ"
      }
    },
    {
      "cell_type": "code",
      "source": [
        "train_dataset = [pd.concat([data_1_resample[0:8500], data_2_resample[0:8400], data_3_resample[0:300], data_4_resample[0:200], data_5_resample[0:100]])]\n",
        "test_dataset = pd.concat([data_1_resample[36000:40000], data_2_resample[9000:10000], data_3_resample[9000:10000], data_4_resample[9000:10000], data_5_resample[9000:10000]])\n",
        "target_train = []\n",
        "target_test = test_dataset['Label']\n",
        "X_train = []\n",
        "y_train = []\n",
        "y_test = to_categorical(target_test, num_classes=5)"
      ],
      "metadata": {
        "id": "B4MotKFptWPV"
      },
      "execution_count": null,
      "outputs": []
    },
    {
      "cell_type": "markdown",
      "source": [
        "Equal distribution between class-split tasks, 50:50 split b/w Benign and Attack for each"
      ],
      "metadata": {
        "id": "7HlX9lDvu921"
      }
    },
    {
      "cell_type": "code",
      "source": [
        "train_dataset = [pd.concat([data_1_resample[0:9000], data_2_resample[0:9000]]), \n",
        "                 pd.concat([data_1_resample[9000:18000], data_3_resample[0:9000]]), \n",
        "                 pd.concat([data_1_resample[18000:27000], data_4_resample[0:9000]]), \n",
        "                 pd.concat([data_1_resample[27000:36000], data_5_resample[0:9000]])]\n",
        "test_dataset = pd.concat([data_1_resample[36000:40000], data_2_resample[9000:10000], data_3_resample[9000:10000], data_4_resample[9000:10000], data_5_resample[9000:10000]])\n",
        "target_train = []\n",
        "target_test = test_dataset['Label']\n",
        "X_train = []\n",
        "y_train = []\n",
        "y_test = to_categorical(target_test, num_classes=5)"
      ],
      "metadata": {
        "id": "7JTYhkY9UeM6"
      },
      "execution_count": null,
      "outputs": []
    },
    {
      "cell_type": "markdown",
      "source": [
        "Larger Base training task, smaller increment tasks, 50:50 split b/w Benign and Attack for each"
      ],
      "metadata": {
        "id": "Vrh1O5dhvbGp"
      }
    },
    {
      "cell_type": "code",
      "source": [
        "train_dataset = [pd.concat([data_1_resample[0:9000], data_2_resample[0:9000]]), \n",
        "                 pd.concat([data_1_resample[9000:13500], data_3_resample[0:4500]]), \n",
        "                 pd.concat([data_1_resample[13500:18000], data_4_resample[0:4500]]), \n",
        "                 pd.concat([data_1_resample[18000:22500], data_5_resample[0:4500]])]\n",
        "test_dataset = pd.concat([data_1_resample[36000:40000], data_2_resample[9000:10000], data_3_resample[9000:10000], data_4_resample[9000:10000], data_5_resample[9000:10000]])\n",
        "target_train = []\n",
        "target_test = test_dataset['Label']\n",
        "X_train = []\n",
        "y_train = []\n",
        "y_test = to_categorical(target_test, num_classes=5)"
      ],
      "metadata": {
        "id": "k6FU9ZHCvcvl"
      },
      "execution_count": null,
      "outputs": []
    },
    {
      "cell_type": "markdown",
      "source": [
        "Larger Base training task, much smaller increment tasks, 50:50 split b/w Benign and Attack for each"
      ],
      "metadata": {
        "id": "7qN5A3oQ264p"
      }
    },
    {
      "cell_type": "code",
      "source": [
        "train_dataset = [pd.concat([data_1_resample[0:9000], data_2_resample[0:9000]]), \n",
        "                 pd.concat([data_1_resample[9000:10000], data_3_resample[0:1000]]), \n",
        "                 pd.concat([data_1_resample[10000:11000], data_4_resample[0:1000]]), \n",
        "                 pd.concat([data_1_resample[11000:12000], data_5_resample[0:1000]])]\n",
        "test_dataset = pd.concat([data_1_resample[36000:40000], data_2_resample[9000:10000], data_3_resample[9000:10000], data_4_resample[9000:10000], data_5_resample[9000:10000]])\n",
        "target_train = []\n",
        "target_test = test_dataset['Label']\n",
        "X_train = []\n",
        "y_train = []\n",
        "y_test = to_categorical(target_test, num_classes=5)"
      ],
      "metadata": {
        "id": "z_C7wDih2-xT"
      },
      "execution_count": null,
      "outputs": []
    },
    {
      "cell_type": "markdown",
      "source": [
        "Learned class data mixed into each task (1000 samples each)"
      ],
      "metadata": {
        "id": "jZMjX0uF2cTL"
      }
    },
    {
      "cell_type": "code",
      "source": [
        "baseline = 0\n",
        "train_dataset = [pd.concat([data_1_resample[0:9000], data_2_resample[0:9000]]), \n",
        "                 pd.concat([data_1_resample[9000:13500], data_3_resample[0:4500], data_2_resample[0:1000]]), \n",
        "                 pd.concat([data_1_resample[13500:18000], data_4_resample[0:4500], data_2_resample[0:1000], data_3_resample[0:1000]]), \n",
        "                 pd.concat([data_1_resample[18000:22500], data_5_resample[0:4500], data_4_resample[0:1000], data_2_resample[0:1000], data_3_resample[0:1000]])]\n",
        "test_dataset = pd.concat([data_1_resample[36000:40000], data_2_resample[9000:10000], data_3_resample[9000:10000], data_4_resample[9000:10000], data_5_resample[9000:10000]])\n",
        "target_train = []\n",
        "target_test = test_dataset['Label']\n",
        "X_train = []\n",
        "y_train = []\n",
        "y_test = to_categorical(target_test, num_classes=5)"
      ],
      "metadata": {
        "id": "bkrzCyi8-aAa"
      },
      "execution_count": null,
      "outputs": []
    },
    {
      "cell_type": "markdown",
      "source": [
        "Learned class data mixed into each task (500 samples each)"
      ],
      "metadata": {
        "id": "hMbHRpW45Jro"
      }
    },
    {
      "cell_type": "code",
      "source": [
        "train_dataset = [pd.concat([data_1_resample[0:9000], data_2_resample[0:9000]]), \n",
        "                 pd.concat([data_1_resample[9000:13500], data_3_resample[0:4500], data_2_resample[0:500]]), \n",
        "                 pd.concat([data_1_resample[13500:18000], data_4_resample[0:4500], data_2_resample[0:500], data_3_resample[0:500]]), \n",
        "                 pd.concat([data_1_resample[18000:22500], data_5_resample[0:4500], data_4_resample[0:500], data_2_resample[0:500], data_3_resample[0:500]])]\n",
        "test_dataset = pd.concat([data_1_resample[36000:40000], data_2_resample[9000:10000], data_3_resample[9000:10000], data_4_resample[9000:10000], data_5_resample[9000:10000]])\n",
        "target_train = []\n",
        "target_test = test_dataset['Label']\n",
        "X_train = []\n",
        "y_train = []\n",
        "y_test = to_categorical(target_test, num_classes=5)"
      ],
      "metadata": {
        "id": "OIWopVZX5DEd"
      },
      "execution_count": null,
      "outputs": []
    },
    {
      "cell_type": "markdown",
      "source": [
        "Learned class data mixed into each task (short increments of 100 with equal data mixed in)"
      ],
      "metadata": {
        "id": "bm-EZ3YE_jRs"
      }
    },
    {
      "cell_type": "code",
      "source": [
        "train_dataset = [pd.concat([data_1_resample[0:8000], data_2_resample[0:8000]]), \n",
        "                 pd.concat([data_1_resample[9000:9100], data_3_resample[0:100], data_2_resample[8000:8100]]), \n",
        "                 pd.concat([data_1_resample[9100:9200], data_4_resample[0:100], data_2_resample[8100:8200], data_3_resample[100:200]]), \n",
        "                 pd.concat([data_1_resample[9200:9300], data_5_resample[0:100], data_4_resample[100:200], data_2_resample[8200:8300], data_3_resample[200:300]])]\n",
        "test_dataset = pd.concat([data_1_resample[36000:40000], data_2_resample[9000:10000], data_3_resample[9000:10000], data_4_resample[9000:10000], data_5_resample[9000:10000]])\n",
        "target_train = []\n",
        "target_test = test_dataset['Label']\n",
        "X_train = []\n",
        "y_train = []\n",
        "y_test = to_categorical(target_test, num_classes=5)"
      ],
      "metadata": {
        "id": "HyJm-z_U_rfY"
      },
      "execution_count": null,
      "outputs": []
    },
    {
      "cell_type": "markdown",
      "source": [
        "Setup training and testing data"
      ],
      "metadata": {
        "id": "irE6RRTmLz9g"
      }
    },
    {
      "cell_type": "code",
      "source": [
        "i = 0\n",
        "for task in train_dataset:\n",
        "  task = task.sample(frac=1)\n",
        "  target_train.append(task['Label'])\n",
        "\n",
        "  y_train.append(to_categorical(target_train[i], num_classes=5))\n",
        "  task = task.drop(columns = [\"Label\"], axis=1)\n",
        "\n",
        "  X_train.append(task.iloc[:, :-1].values)\n",
        "\n",
        "  X_train[i] = np.asarray(X_train[i]).astype(np.float32)\n",
        "\n",
        "  # reshape the data for CNN\n",
        "  X_train[i] = X_train[i].reshape(len(X_train[i]), X_train[i].shape[1], 1)\n",
        "\n",
        "  i+=1\n",
        "\n",
        "test_dataset = test_dataset.drop(columns = [\"Label\"], axis=1)\n",
        "\n",
        "X_test = test_dataset.iloc[:, :-1].values\n",
        "X_test = np.asarray(X_test).astype(np.float32)\n",
        "X_test = X_test.reshape(len(X_test), X_test.shape[1], 1)\n",
        "\n",
        "X_train[0].shape, X_train[1].shape, X_train[2].shape, X_train[3].shape, X_test.shape #If using Baseline, only print the first X_train element since theres only one task with all classes"
      ],
      "metadata": {
        "id": "jVzzhDcZUgvS"
      },
      "execution_count": null,
      "outputs": []
    },
    {
      "cell_type": "markdown",
      "source": [
        "# CNN model"
      ],
      "metadata": {
        "id": "D6AnGSctMEbC"
      }
    },
    {
      "cell_type": "code",
      "source": [
        "# making the deep learning function\n",
        "def model():\n",
        "    model = Sequential()\n",
        "    model.add(Conv1D(filters=64, kernel_size=6, activation='relu', \n",
        "                    padding='same', input_shape=(67, 1)))\n",
        "    model.add(BatchNormalization())\n",
        "    \n",
        "    # adding a pooling layer\n",
        "    model.add(MaxPooling1D(pool_size=(3), strides=2, padding='same'))\n",
        "    \n",
        "    model.add(Conv1D(filters=64, kernel_size=6, activation='relu', \n",
        "                    padding='same', input_shape=(67, 1)))\n",
        "    model.add(BatchNormalization())\n",
        "    model.add(MaxPooling1D(pool_size=(3), strides=2, padding='same'))\n",
        "    \n",
        "    model.add(Conv1D(filters=64, kernel_size=6, activation='relu', \n",
        "                    padding='same', input_shape=(67, 1)))\n",
        "    model.add(BatchNormalization())\n",
        "    model.add(MaxPooling1D(pool_size=(3), strides=2, padding='same'))\n",
        "    \n",
        "    model.add(Flatten())\n",
        "    model.add(Dense(64, activation='relu'))\n",
        "    model.add(Dense(64, activation='relu'))\n",
        "    model.add(Dense(5, activation='softmax'))\n",
        "    \n",
        "    model.compile(loss='categorical_crossentropy', optimizer='adam', metrics=['accuracy'])\n",
        "    return model\n",
        "\n",
        "model = model()\n",
        "model.summary()"
      ],
      "metadata": {
        "colab": {
          "base_uri": "https://localhost:8080/"
        },
        "id": "W99Hqcu7UzMi",
        "outputId": "a1d2ff6c-e379-4951-a5ce-645c3b37cd07"
      },
      "execution_count": null,
      "outputs": [
        {
          "output_type": "stream",
          "name": "stdout",
          "text": [
            "Model: \"sequential_1\"\n",
            "_________________________________________________________________\n",
            " Layer (type)                Output Shape              Param #   \n",
            "=================================================================\n",
            " conv1d_3 (Conv1D)           (None, 67, 64)            448       \n",
            "                                                                 \n",
            " batch_normalization_3 (Batc  (None, 67, 64)           256       \n",
            " hNormalization)                                                 \n",
            "                                                                 \n",
            " max_pooling1d_3 (MaxPooling  (None, 34, 64)           0         \n",
            " 1D)                                                             \n",
            "                                                                 \n",
            " conv1d_4 (Conv1D)           (None, 34, 64)            24640     \n",
            "                                                                 \n",
            " batch_normalization_4 (Batc  (None, 34, 64)           256       \n",
            " hNormalization)                                                 \n",
            "                                                                 \n",
            " max_pooling1d_4 (MaxPooling  (None, 17, 64)           0         \n",
            " 1D)                                                             \n",
            "                                                                 \n",
            " conv1d_5 (Conv1D)           (None, 17, 64)            24640     \n",
            "                                                                 \n",
            " batch_normalization_5 (Batc  (None, 17, 64)           256       \n",
            " hNormalization)                                                 \n",
            "                                                                 \n",
            " max_pooling1d_5 (MaxPooling  (None, 9, 64)            0         \n",
            " 1D)                                                             \n",
            "                                                                 \n",
            " flatten_1 (Flatten)         (None, 576)               0         \n",
            "                                                                 \n",
            " dense_3 (Dense)             (None, 64)                36928     \n",
            "                                                                 \n",
            " dense_4 (Dense)             (None, 64)                4160      \n",
            "                                                                 \n",
            " dense_5 (Dense)             (None, 5)                 325       \n",
            "                                                                 \n",
            "=================================================================\n",
            "Total params: 91,909\n",
            "Trainable params: 91,525\n",
            "Non-trainable params: 384\n",
            "_________________________________________________________________\n"
          ]
        }
      ]
    },
    {
      "cell_type": "markdown",
      "source": [
        "# Train model"
      ],
      "metadata": {
        "id": "JG14VtAeMHtd"
      }
    },
    {
      "cell_type": "markdown",
      "source": [
        "Task 1"
      ],
      "metadata": {
        "id": "NWrfwsYTErck"
      }
    },
    {
      "cell_type": "code",
      "source": [
        "logger = CSVLogger('logs.csv', append=True)\n",
        "his = model.fit(X_train[0], y_train[0], epochs=10, batch_size=32, validation_split=0.1,\n",
        "           callbacks=[logger])\n"
      ],
      "metadata": {
        "colab": {
          "base_uri": "https://localhost:8080/"
        },
        "id": "Q6tB-QSLVPBl",
        "outputId": "b17a14d0-7a97-44f3-da41-982442511bf7"
      },
      "execution_count": null,
      "outputs": [
        {
          "output_type": "stream",
          "name": "stdout",
          "text": [
            "Epoch 1/10\n",
            "493/493 [==============================] - 12s 20ms/step - loss: 0.3044 - accuracy: 0.9060 - val_loss: 0.2404 - val_accuracy: 0.9274\n",
            "Epoch 2/10\n",
            "493/493 [==============================] - 10s 20ms/step - loss: 0.1626 - accuracy: 0.9483 - val_loss: 0.1432 - val_accuracy: 0.9400\n",
            "Epoch 3/10\n",
            "493/493 [==============================] - 9s 19ms/step - loss: 0.1304 - accuracy: 0.9588 - val_loss: 0.1595 - val_accuracy: 0.9537\n",
            "Epoch 4/10\n",
            "493/493 [==============================] - 9s 19ms/step - loss: 0.0904 - accuracy: 0.9728 - val_loss: 0.5071 - val_accuracy: 0.7497\n",
            "Epoch 5/10\n",
            "493/493 [==============================] - 9s 19ms/step - loss: 0.0793 - accuracy: 0.9750 - val_loss: 0.0531 - val_accuracy: 0.9846\n",
            "Epoch 6/10\n",
            "493/493 [==============================] - 9s 19ms/step - loss: 0.0598 - accuracy: 0.9813 - val_loss: 0.2676 - val_accuracy: 0.9469\n",
            "Epoch 7/10\n",
            "493/493 [==============================] - 10s 21ms/step - loss: 0.0659 - accuracy: 0.9818 - val_loss: 0.1573 - val_accuracy: 0.9674\n",
            "Epoch 8/10\n",
            "493/493 [==============================] - 9s 19ms/step - loss: 0.0780 - accuracy: 0.9766 - val_loss: 0.0666 - val_accuracy: 0.9817\n",
            "Epoch 9/10\n",
            "493/493 [==============================] - 9s 19ms/step - loss: 0.0544 - accuracy: 0.9839 - val_loss: 0.3723 - val_accuracy: 0.8360\n",
            "Epoch 10/10\n",
            "493/493 [==============================] - 9s 19ms/step - loss: 0.0446 - accuracy: 0.9879 - val_loss: 0.1677 - val_accuracy: 0.9714\n"
          ]
        }
      ]
    },
    {
      "cell_type": "code",
      "source": [
        "y_pred = model.predict(X_test)\n",
        "y_pred = np.argmax(y_pred, axis=1)\n",
        "y_pred = np.transpose(y_pred, axes=None)\n",
        "\n",
        "plt = ConfusionMatrixDisplay.from_predictions(target_test, y_pred, normalize='true', cmap='Blues')"
      ],
      "metadata": {
        "colab": {
          "base_uri": "https://localhost:8080/",
          "height": 279
        },
        "id": "6fp6zxMKccdN",
        "outputId": "e86cc9d5-6424-43fc-cec2-67846233ff25"
      },
      "execution_count": null,
      "outputs": [
        {
          "output_type": "display_data",
          "data": {
            "text/plain": [
              "<Figure size 432x288 with 2 Axes>"
            ],
            "image/png": "[encoded data removed]"
          },
          "metadata": {
            "needs_background": "light"
          }
        }
      ]
    },
    {
      "cell_type": "markdown",
      "source": [
        "Task 2"
      ],
      "metadata": {
        "id": "gfDe7aOHeKej"
      }
    },
    {
      "cell_type": "code",
      "source": [
        "logger = CSVLogger('logs.csv', append=True)\n",
        "his = model.fit(X_train[1], y_train[1], epochs=10, batch_size=32, validation_split=0.1,\n",
        "           callbacks=[logger])\n"
      ],
      "metadata": {
        "colab": {
          "base_uri": "https://localhost:8080/"
        },
        "id": "fS02ItLZdGZ7",
        "outputId": "419585ee-117e-4c58-ef23-ac61b341e7f0"
      },
      "execution_count": null,
      "outputs": [
        {
          "output_type": "stream",
          "name": "stdout",
          "text": [
            "Epoch 1/10\n",
            "268/268 [==============================] - 5s 19ms/step - loss: 0.2881 - accuracy: 0.9200 - val_loss: 0.0998 - val_accuracy: 0.9653\n",
            "Epoch 2/10\n",
            "268/268 [==============================] - 5s 19ms/step - loss: 0.0808 - accuracy: 0.9735 - val_loss: 0.0701 - val_accuracy: 0.9737\n",
            "Epoch 3/10\n",
            "268/268 [==============================] - 6s 21ms/step - loss: 0.0698 - accuracy: 0.9779 - val_loss: 0.0842 - val_accuracy: 0.9811\n",
            "Epoch 4/10\n",
            "268/268 [==============================] - 5s 19ms/step - loss: 0.0565 - accuracy: 0.9827 - val_loss: 0.2040 - val_accuracy: 0.8632\n",
            "Epoch 5/10\n",
            "268/268 [==============================] - 5s 19ms/step - loss: 0.0473 - accuracy: 0.9856 - val_loss: 0.0493 - val_accuracy: 0.9821\n",
            "Epoch 6/10\n",
            "268/268 [==============================] - 5s 19ms/step - loss: 0.0398 - accuracy: 0.9865 - val_loss: 0.0501 - val_accuracy: 0.9789\n",
            "Epoch 7/10\n",
            "268/268 [==============================] - 5s 19ms/step - loss: 0.0417 - accuracy: 0.9854 - val_loss: 0.0382 - val_accuracy: 0.9874\n",
            "Epoch 8/10\n",
            "268/268 [==============================] - 5s 19ms/step - loss: 0.0329 - accuracy: 0.9888 - val_loss: 0.0641 - val_accuracy: 0.9821\n",
            "Epoch 9/10\n",
            "268/268 [==============================] - 5s 19ms/step - loss: 0.0338 - accuracy: 0.9896 - val_loss: 0.0453 - val_accuracy: 0.9842\n",
            "Epoch 10/10\n",
            "268/268 [==============================] - 5s 19ms/step - loss: 0.0363 - accuracy: 0.9875 - val_loss: 0.0338 - val_accuracy: 0.9905\n"
          ]
        }
      ]
    },
    {
      "cell_type": "code",
      "source": [
        "y_pred = model.predict(X_test)\n",
        "y_pred = np.argmax(y_pred, axis=1)\n",
        "y_pred = np.transpose(y_pred, axes=None)\n",
        "\n",
        "plt = ConfusionMatrixDisplay.from_predictions(target_test, y_pred, normalize='true', cmap='Blues')"
      ],
      "metadata": {
        "colab": {
          "base_uri": "https://localhost:8080/",
          "height": 283
        },
        "id": "kaqrmzZldGxD",
        "outputId": "9aa1c375-09d5-46a8-83a8-bbae86a6ade0"
      },
      "execution_count": null,
      "outputs": [
        {
          "output_type": "display_data",
          "data": {
            "text/plain": [
              "<Figure size 432x288 with 2 Axes>"
            ],
            "image/png": "[encoded data removed]"
          },
          "metadata": {
            "needs_background": "light"
          }
        }
      ]
    },
    {
      "cell_type": "markdown",
      "source": [
        "Task 3"
      ],
      "metadata": {
        "id": "NFCofe65eMw2"
      }
    },
    {
      "cell_type": "code",
      "source": [
        "logger = CSVLogger('logs.csv', append=True)\n",
        "his = model.fit(X_train[2], y_train[2], epochs=10, batch_size=32, validation_split=0.1,\n",
        "           callbacks=[logger])"
      ],
      "metadata": {
        "colab": {
          "base_uri": "https://localhost:8080/"
        },
        "id": "YmmLv8otd2UT",
        "outputId": "cc248baf-29be-4a99-f04d-f205b13d1df0"
      },
      "execution_count": null,
      "outputs": [
        {
          "output_type": "stream",
          "name": "stdout",
          "text": [
            "Epoch 1/10\n",
            "282/282 [==============================] - 5s 19ms/step - loss: 0.2748 - accuracy: 0.9270 - val_loss: 0.1332 - val_accuracy: 0.9590\n",
            "Epoch 2/10\n",
            "282/282 [==============================] - 5s 18ms/step - loss: 0.0820 - accuracy: 0.9732 - val_loss: 0.0617 - val_accuracy: 0.9740\n",
            "Epoch 3/10\n",
            "282/282 [==============================] - 5s 18ms/step - loss: 0.0698 - accuracy: 0.9759 - val_loss: 0.0590 - val_accuracy: 0.9830\n",
            "Epoch 4/10\n",
            "282/282 [==============================] - 5s 19ms/step - loss: 0.0601 - accuracy: 0.9791 - val_loss: 0.0375 - val_accuracy: 0.9860\n",
            "Epoch 5/10\n",
            "282/282 [==============================] - 5s 18ms/step - loss: 0.0504 - accuracy: 0.9839 - val_loss: 0.0611 - val_accuracy: 0.9770\n",
            "Epoch 6/10\n",
            "282/282 [==============================] - 5s 19ms/step - loss: 0.0540 - accuracy: 0.9816 - val_loss: 0.0629 - val_accuracy: 0.9820\n",
            "Epoch 7/10\n",
            "282/282 [==============================] - 5s 19ms/step - loss: 0.0450 - accuracy: 0.9852 - val_loss: 0.0400 - val_accuracy: 0.9780\n",
            "Epoch 8/10\n",
            "282/282 [==============================] - 5s 18ms/step - loss: 0.0371 - accuracy: 0.9879 - val_loss: 0.0227 - val_accuracy: 0.9940\n",
            "Epoch 9/10\n",
            "282/282 [==============================] - 6s 21ms/step - loss: 0.0342 - accuracy: 0.9888 - val_loss: 0.0256 - val_accuracy: 0.9960\n",
            "Epoch 10/10\n",
            "282/282 [==============================] - 5s 19ms/step - loss: 0.0380 - accuracy: 0.9883 - val_loss: 0.0325 - val_accuracy: 0.9860\n"
          ]
        }
      ]
    },
    {
      "cell_type": "code",
      "source": [
        "y_pred = model.predict(X_test)\n",
        "y_pred = np.argmax(y_pred, axis=1)\n",
        "y_pred = np.transpose(y_pred, axes=None)\n",
        "\n",
        "plt = ConfusionMatrixDisplay.from_predictions(target_test, y_pred, normalize='true', cmap='Blues')"
      ],
      "metadata": {
        "colab": {
          "base_uri": "https://localhost:8080/",
          "height": 283
        },
        "id": "LGpWOHbbd8jk",
        "outputId": "325efb54-fc76-434c-a586-cf214dff40aa"
      },
      "execution_count": null,
      "outputs": [
        {
          "output_type": "display_data",
          "data": {
            "text/plain": [
              "<Figure size 432x288 with 2 Axes>"
            ],
            "image/png": "[encoded data removed]"
          },
          "metadata": {
            "needs_background": "light"
          }
        }
      ]
    },
    {
      "cell_type": "markdown",
      "source": [
        "Task 4"
      ],
      "metadata": {
        "id": "mEEuuaPkeWZ0"
      }
    },
    {
      "cell_type": "code",
      "source": [
        "logger = CSVLogger('logs.csv', append=True)\n",
        "his = model.fit(X_train[3], y_train[3], epochs=10, batch_size=32, validation_split=0.1,\n",
        "           callbacks=[logger])"
      ],
      "metadata": {
        "colab": {
          "base_uri": "https://localhost:8080/"
        },
        "id": "YW5qznSpeaBU",
        "outputId": "a885f828-581b-4884-88e1-6d9b5f6cc003"
      },
      "execution_count": null,
      "outputs": [
        {
          "output_type": "stream",
          "name": "stdout",
          "text": [
            "Epoch 1/10\n",
            "296/296 [==============================] - 6s 19ms/step - loss: 0.3740 - accuracy: 0.9039 - val_loss: 0.1526 - val_accuracy: 0.9581\n",
            "Epoch 2/10\n",
            "296/296 [==============================] - 6s 19ms/step - loss: 0.0920 - accuracy: 0.9720 - val_loss: 0.1898 - val_accuracy: 0.9352\n",
            "Epoch 3/10\n",
            "296/296 [==============================] - 6s 20ms/step - loss: 0.0578 - accuracy: 0.9811 - val_loss: 0.1644 - val_accuracy: 0.9552\n",
            "Epoch 4/10\n",
            "296/296 [==============================] - 5s 19ms/step - loss: 0.0533 - accuracy: 0.9833 - val_loss: 0.0761 - val_accuracy: 0.9743\n",
            "Epoch 5/10\n",
            "296/296 [==============================] - 5s 18ms/step - loss: 0.0446 - accuracy: 0.9857 - val_loss: 0.0695 - val_accuracy: 0.9800\n",
            "Epoch 6/10\n",
            "296/296 [==============================] - 6s 19ms/step - loss: 0.0421 - accuracy: 0.9862 - val_loss: 0.0633 - val_accuracy: 0.9810\n",
            "Epoch 7/10\n",
            "296/296 [==============================] - 6s 19ms/step - loss: 0.0427 - accuracy: 0.9857 - val_loss: 0.0841 - val_accuracy: 0.9733\n",
            "Epoch 8/10\n",
            "296/296 [==============================] - 6s 20ms/step - loss: 0.0444 - accuracy: 0.9871 - val_loss: 0.0900 - val_accuracy: 0.9705\n",
            "Epoch 9/10\n",
            "296/296 [==============================] - 7s 23ms/step - loss: 0.0372 - accuracy: 0.9872 - val_loss: 0.0690 - val_accuracy: 0.9829\n",
            "Epoch 10/10\n",
            "296/296 [==============================] - 6s 19ms/step - loss: 0.0393 - accuracy: 0.9886 - val_loss: 0.0738 - val_accuracy: 0.9733\n"
          ]
        }
      ]
    },
    {
      "cell_type": "code",
      "source": [
        "y_pred = model.predict(X_test)\n",
        "y_pred = np.argmax(y_pred, axis=1)\n",
        "y_pred = np.transpose(y_pred, axes=None)\n",
        "\n",
        "plt = ConfusionMatrixDisplay.from_predictions(target_test, y_pred, normalize='true', cmap='Blues')"
      ],
      "metadata": {
        "colab": {
          "base_uri": "https://localhost:8080/",
          "height": 283
        },
        "id": "lc6zi1jQef3N",
        "outputId": "91a53351-aa4d-454a-e782-199da7c9a920"
      },
      "execution_count": null,
      "outputs": [
        {
          "output_type": "display_data",
          "data": {
            "text/plain": [
              "<Figure size 432x288 with 2 Axes>"
            ],
            "image/png": "[encoded data removed]"
          },
          "metadata": {
            "needs_background": "light"
          }
        }
      ]
    },
    {
      "cell_type": "markdown",
      "source": [
        "# Test model"
      ],
      "metadata": {
        "id": "zGbtzuC7MLgz"
      }
    },
    {
      "cell_type": "code",
      "source": [
        "# check the model performance on test data\n",
        "scores = model.evaluate(X_test, y_test)\n",
        "print(\"%s: %.2f%%\" % (model.metrics_names[1], scores[1] * 100))"
      ],
      "metadata": {
        "colab": {
          "base_uri": "https://localhost:8080/"
        },
        "id": "ccOvaU5jVj_c",
        "outputId": "3c18e703-3cf9-4f14-df7d-5f3e8d5d999c"
      },
      "execution_count": null,
      "outputs": [
        {
          "output_type": "stream",
          "name": "stdout",
          "text": [
            "250/250 [==============================] - 1s 6ms/step - loss: 0.0138 - accuracy: 0.9964\n",
            "accuracy: 99.64%\n"
          ]
        }
      ]
    },
    {
      "cell_type": "markdown",
      "source": [
        "# Performance scores"
      ],
      "metadata": {
        "id": "CcUhdDr3DZ8S"
      }
    },
    {
      "cell_type": "code",
      "source": [
        "_, accuracy = model.evaluate(X_test, y_test)\n",
        "print(\"\\nEvaluation Metrics\")\n",
        "print(\"---------------------\")\n",
        "print(\"Accuracy = {} %\" .format(accuracy*100))\n",
        "print(\"Precision = {} %\" .format(precision_score(target_test, y_pred, average=\"macro\")*100))\n",
        "print(\"Recall = {} %\" .format(recall_score(target_test, y_pred, average=\"macro\")*100))\n",
        "print(\"F1 Score = {} %\" .format(f1_score(target_test, y_pred, average=\"macro\")*100))"
      ],
      "metadata": {
        "id": "Y7CDJVaZDrbw"
      },
      "execution_count": null,
      "outputs": []
    }
  ]
}